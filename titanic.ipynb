{
 "cells": [
  {
   "cell_type": "code",
   "execution_count": null,
   "metadata": {},
   "outputs": [],
   "source": [
    "#libraries\n",
    "import pandas as pd\n",
    "import seaborn as sns\n",
    "import numpy as np\n",
    "import matplotlib.pyplot as plt"
   ]
  },
  {
   "cell_type": "code",
   "execution_count": 41,
   "metadata": {},
   "outputs": [
    {
     "data": {
      "text/html": [
       "<div>\n",
       "<style scoped>\n",
       "    .dataframe tbody tr th:only-of-type {\n",
       "        vertical-align: middle;\n",
       "    }\n",
       "\n",
       "    .dataframe tbody tr th {\n",
       "        vertical-align: top;\n",
       "    }\n",
       "\n",
       "    .dataframe thead th {\n",
       "        text-align: right;\n",
       "    }\n",
       "</style>\n",
       "<table border=\"1\" class=\"dataframe\">\n",
       "  <thead>\n",
       "    <tr style=\"text-align: right;\">\n",
       "      <th></th>\n",
       "      <th>survived</th>\n",
       "      <th>pclass</th>\n",
       "      <th>sex</th>\n",
       "      <th>age</th>\n",
       "      <th>sibsp</th>\n",
       "      <th>parch</th>\n",
       "      <th>fare</th>\n",
       "      <th>embarked</th>\n",
       "      <th>class</th>\n",
       "      <th>who</th>\n",
       "      <th>adult_male</th>\n",
       "      <th>deck</th>\n",
       "      <th>embark_town</th>\n",
       "      <th>alive</th>\n",
       "      <th>alone</th>\n",
       "    </tr>\n",
       "  </thead>\n",
       "  <tbody>\n",
       "    <tr>\n",
       "      <th>0</th>\n",
       "      <td>0</td>\n",
       "      <td>3</td>\n",
       "      <td>male</td>\n",
       "      <td>22.0</td>\n",
       "      <td>1</td>\n",
       "      <td>0</td>\n",
       "      <td>7.2500</td>\n",
       "      <td>S</td>\n",
       "      <td>Third</td>\n",
       "      <td>man</td>\n",
       "      <td>True</td>\n",
       "      <td>NaN</td>\n",
       "      <td>Southampton</td>\n",
       "      <td>no</td>\n",
       "      <td>False</td>\n",
       "    </tr>\n",
       "    <tr>\n",
       "      <th>1</th>\n",
       "      <td>1</td>\n",
       "      <td>1</td>\n",
       "      <td>female</td>\n",
       "      <td>38.0</td>\n",
       "      <td>1</td>\n",
       "      <td>0</td>\n",
       "      <td>71.2833</td>\n",
       "      <td>C</td>\n",
       "      <td>First</td>\n",
       "      <td>woman</td>\n",
       "      <td>False</td>\n",
       "      <td>C</td>\n",
       "      <td>Cherbourg</td>\n",
       "      <td>yes</td>\n",
       "      <td>False</td>\n",
       "    </tr>\n",
       "    <tr>\n",
       "      <th>2</th>\n",
       "      <td>1</td>\n",
       "      <td>3</td>\n",
       "      <td>female</td>\n",
       "      <td>26.0</td>\n",
       "      <td>0</td>\n",
       "      <td>0</td>\n",
       "      <td>7.9250</td>\n",
       "      <td>S</td>\n",
       "      <td>Third</td>\n",
       "      <td>woman</td>\n",
       "      <td>False</td>\n",
       "      <td>NaN</td>\n",
       "      <td>Southampton</td>\n",
       "      <td>yes</td>\n",
       "      <td>True</td>\n",
       "    </tr>\n",
       "    <tr>\n",
       "      <th>3</th>\n",
       "      <td>1</td>\n",
       "      <td>1</td>\n",
       "      <td>female</td>\n",
       "      <td>35.0</td>\n",
       "      <td>1</td>\n",
       "      <td>0</td>\n",
       "      <td>53.1000</td>\n",
       "      <td>S</td>\n",
       "      <td>First</td>\n",
       "      <td>woman</td>\n",
       "      <td>False</td>\n",
       "      <td>C</td>\n",
       "      <td>Southampton</td>\n",
       "      <td>yes</td>\n",
       "      <td>False</td>\n",
       "    </tr>\n",
       "    <tr>\n",
       "      <th>4</th>\n",
       "      <td>0</td>\n",
       "      <td>3</td>\n",
       "      <td>male</td>\n",
       "      <td>35.0</td>\n",
       "      <td>0</td>\n",
       "      <td>0</td>\n",
       "      <td>8.0500</td>\n",
       "      <td>S</td>\n",
       "      <td>Third</td>\n",
       "      <td>man</td>\n",
       "      <td>True</td>\n",
       "      <td>NaN</td>\n",
       "      <td>Southampton</td>\n",
       "      <td>no</td>\n",
       "      <td>True</td>\n",
       "    </tr>\n",
       "    <tr>\n",
       "      <th>5</th>\n",
       "      <td>0</td>\n",
       "      <td>3</td>\n",
       "      <td>male</td>\n",
       "      <td>NaN</td>\n",
       "      <td>0</td>\n",
       "      <td>0</td>\n",
       "      <td>8.4583</td>\n",
       "      <td>Q</td>\n",
       "      <td>Third</td>\n",
       "      <td>man</td>\n",
       "      <td>True</td>\n",
       "      <td>NaN</td>\n",
       "      <td>Queenstown</td>\n",
       "      <td>no</td>\n",
       "      <td>True</td>\n",
       "    </tr>\n",
       "    <tr>\n",
       "      <th>6</th>\n",
       "      <td>0</td>\n",
       "      <td>1</td>\n",
       "      <td>male</td>\n",
       "      <td>54.0</td>\n",
       "      <td>0</td>\n",
       "      <td>0</td>\n",
       "      <td>51.8625</td>\n",
       "      <td>S</td>\n",
       "      <td>First</td>\n",
       "      <td>man</td>\n",
       "      <td>True</td>\n",
       "      <td>E</td>\n",
       "      <td>Southampton</td>\n",
       "      <td>no</td>\n",
       "      <td>True</td>\n",
       "    </tr>\n",
       "    <tr>\n",
       "      <th>7</th>\n",
       "      <td>0</td>\n",
       "      <td>3</td>\n",
       "      <td>male</td>\n",
       "      <td>2.0</td>\n",
       "      <td>3</td>\n",
       "      <td>1</td>\n",
       "      <td>21.0750</td>\n",
       "      <td>S</td>\n",
       "      <td>Third</td>\n",
       "      <td>child</td>\n",
       "      <td>False</td>\n",
       "      <td>NaN</td>\n",
       "      <td>Southampton</td>\n",
       "      <td>no</td>\n",
       "      <td>False</td>\n",
       "    </tr>\n",
       "    <tr>\n",
       "      <th>8</th>\n",
       "      <td>1</td>\n",
       "      <td>3</td>\n",
       "      <td>female</td>\n",
       "      <td>27.0</td>\n",
       "      <td>0</td>\n",
       "      <td>2</td>\n",
       "      <td>11.1333</td>\n",
       "      <td>S</td>\n",
       "      <td>Third</td>\n",
       "      <td>woman</td>\n",
       "      <td>False</td>\n",
       "      <td>NaN</td>\n",
       "      <td>Southampton</td>\n",
       "      <td>yes</td>\n",
       "      <td>False</td>\n",
       "    </tr>\n",
       "    <tr>\n",
       "      <th>9</th>\n",
       "      <td>1</td>\n",
       "      <td>2</td>\n",
       "      <td>female</td>\n",
       "      <td>14.0</td>\n",
       "      <td>1</td>\n",
       "      <td>0</td>\n",
       "      <td>30.0708</td>\n",
       "      <td>C</td>\n",
       "      <td>Second</td>\n",
       "      <td>child</td>\n",
       "      <td>False</td>\n",
       "      <td>NaN</td>\n",
       "      <td>Cherbourg</td>\n",
       "      <td>yes</td>\n",
       "      <td>False</td>\n",
       "    </tr>\n",
       "  </tbody>\n",
       "</table>\n",
       "</div>"
      ],
      "text/plain": [
       "   survived  pclass     sex   age  sibsp  parch     fare embarked   class  \\\n",
       "0         0       3    male  22.0      1      0   7.2500        S   Third   \n",
       "1         1       1  female  38.0      1      0  71.2833        C   First   \n",
       "2         1       3  female  26.0      0      0   7.9250        S   Third   \n",
       "3         1       1  female  35.0      1      0  53.1000        S   First   \n",
       "4         0       3    male  35.0      0      0   8.0500        S   Third   \n",
       "5         0       3    male   NaN      0      0   8.4583        Q   Third   \n",
       "6         0       1    male  54.0      0      0  51.8625        S   First   \n",
       "7         0       3    male   2.0      3      1  21.0750        S   Third   \n",
       "8         1       3  female  27.0      0      2  11.1333        S   Third   \n",
       "9         1       2  female  14.0      1      0  30.0708        C  Second   \n",
       "\n",
       "     who  adult_male deck  embark_town alive  alone  \n",
       "0    man        True  NaN  Southampton    no  False  \n",
       "1  woman       False    C    Cherbourg   yes  False  \n",
       "2  woman       False  NaN  Southampton   yes   True  \n",
       "3  woman       False    C  Southampton   yes  False  \n",
       "4    man        True  NaN  Southampton    no   True  \n",
       "5    man        True  NaN   Queenstown    no   True  \n",
       "6    man        True    E  Southampton    no   True  \n",
       "7  child       False  NaN  Southampton    no  False  \n",
       "8  woman       False  NaN  Southampton   yes  False  \n",
       "9  child       False  NaN    Cherbourg   yes  False  "
      ]
     },
     "execution_count": 41,
     "metadata": {},
     "output_type": "execute_result"
    }
   ],
   "source": [
    "#load data\n",
    "titanic=sns.load_dataset(\"titanic\")\n",
    "#print first ten 10 rows\n",
    "titanic.head(10)"
   ]
  },
  {
   "cell_type": "code",
   "execution_count": null,
   "metadata": {},
   "outputs": [],
   "source": [
    "#Count the # columms in dataset\n",
    "titanic.shape"
   ]
  },
  {
   "cell_type": "code",
   "execution_count": null,
   "metadata": {},
   "outputs": [],
   "source": [
    "#Get statistics\n",
    "titanic.describe().T"
   ]
  },
  {
   "cell_type": "code",
   "execution_count": null,
   "metadata": {},
   "outputs": [],
   "source": [
    "#Get a count of the number of surviors\n",
    "titanic.survived.value_counts()"
   ]
  },
  {
   "cell_type": "code",
   "execution_count": null,
   "metadata": {},
   "outputs": [],
   "source": [
    "#Visualize count of survivers\n",
    "sns.countplot(titanic.survived)"
   ]
  },
  {
   "cell_type": "code",
   "execution_count": null,
   "metadata": {},
   "outputs": [],
   "source": [
    "#visualize the count of survivors for colıumns \"who\", \"sex\", \"pclass\", \"sibsp\", \"parch\", \"embarked\" \n",
    "cols=[\"who\", \"sex\", \"pclass\", \"sibsp\", \"parch\", \"embarked\"]\n",
    "n_rows=2\n",
    "n_cols=3\n",
    "#the subplot grid and figure size of each graph\n",
    "fig,axs=plt.subplots(n_rows,n_cols,figsize=(n_cols*3.2,n_rows*3.2))\n",
    "for r in range(0,n_rows):\n",
    "    for c in range(0,n_cols):\n",
    "        i=r*n_cols+c #index to go through the number of columns\n",
    "        ax=axs[r][c] #show where to position each subplot\n",
    "        sns.countplot(titanic[cols[i]],hue=titanic[\"survived\"],ax=ax)\n",
    "        ax.set_title(cols[i])\n",
    "        ax.legend(title=\"survived\",loc=\"upper center\")\n",
    "    plt.tight_layout()\n",
    "        "
   ]
  },
  {
   "cell_type": "code",
   "execution_count": null,
   "metadata": {},
   "outputs": [],
   "source": [
    "#look at the survival rate by sex\n",
    "titanic.groupby(\"sex\")[[\"survived\"]].mean()"
   ]
  },
  {
   "cell_type": "code",
   "execution_count": null,
   "metadata": {},
   "outputs": [],
   "source": [
    "#look at survival rate by sex and class\n",
    "titanic.pivot_table(\"survived\",index=\"sex\",columns=\"class\")"
   ]
  },
  {
   "cell_type": "code",
   "execution_count": null,
   "metadata": {},
   "outputs": [],
   "source": [
    "#look at survival rate by sex and class visually\n",
    "titanic.pivot_table(\"survived\",index=\"sex\",columns=\"class\").plot()"
   ]
  },
  {
   "cell_type": "code",
   "execution_count": null,
   "metadata": {},
   "outputs": [],
   "source": [
    "#Plot the survival rate of each class\n",
    "sns.barplot(x=\"class\",y=\"survived\",data=titanic)"
   ]
  },
  {
   "cell_type": "code",
   "execution_count": null,
   "metadata": {},
   "outputs": [],
   "source": [
    "#look at survival rate by sex age and class\n",
    "age=pd.cut(titanic.age,[0,18,80]) # people who are older than 18 and younger than 80\n",
    "titanic.pivot_table(\"survived\",[\"sex\",age],\"class\")"
   ]
  },
  {
   "cell_type": "code",
   "execution_count": null,
   "metadata": {},
   "outputs": [],
   "source": [
    "#plot the prices paid of each class\n",
    "plt.scatter(x=titanic[\"fare\"],y=titanic[\"class\"],color=\"purple\",label=\"Passenger Paid\")\n",
    "plt.xlabel(\"Price / Fare\")\n",
    "plt.ylabel(\"class\")\n",
    "plt.title(\"Price of each class\")\n",
    "plt.legend()\n",
    "plt.show()"
   ]
  },
  {
   "cell_type": "code",
   "execution_count": null,
   "metadata": {},
   "outputs": [],
   "source": [
    "#Count the empty values in each column\n",
    "titanic.isna().sum()"
   ]
  },
  {
   "cell_type": "code",
   "execution_count": null,
   "metadata": {},
   "outputs": [],
   "source": [
    "#look at all of the values in each column & get a count\n",
    "for val in titanic:\n",
    "    print(titanic[val].value_counts())"
   ]
  },
  {
   "cell_type": "code",
   "execution_count": null,
   "metadata": {},
   "outputs": [],
   "source": [
    "#drop the columns\n",
    "titanic=titanic.drop([\"deck\",\"embark_town\",\"alive\",\"class\",\"who\",\"alone\",\"adult_male\"],axis=1)\n",
    "\n",
    "#Remove the rows with missing value\n",
    "titanic=titanic.dropna(subset=[\"embarked\",\"age\"])"
   ]
  },
  {
   "cell_type": "code",
   "execution_count": null,
   "metadata": {},
   "outputs": [],
   "source": [
    "#count the new number of rows and columns in data set\n",
    "titanic.shape"
   ]
  },
  {
   "cell_type": "code",
   "execution_count": null,
   "metadata": {},
   "outputs": [],
   "source": [
    "#look at the datatypes\n",
    "titanic.dtypes"
   ]
  },
  {
   "cell_type": "code",
   "execution_count": null,
   "metadata": {},
   "outputs": [],
   "source": [
    "#print the unique values in the columns\n",
    "print(titanic[\"sex\"].unique())\n",
    "print(titanic[\"embarked\"].unique())"
   ]
  },
  {
   "cell_type": "code",
   "execution_count": null,
   "metadata": {},
   "outputs": [],
   "source": [
    "from sklearn.preprocessing import LabelEncoder\n",
    "labalencoder=LabelEncoder()\n",
    "#encode the \"sex\" column\n",
    "titanic.iloc[:,2]=labalencoder.fit_transform(titanic.iloc[:,2].values)\n",
    "#encode the \"embarked\" column\n",
    "titanic.iloc[:,7]=labalencoder.fit_transform(titanic.iloc[:,7].values)\n"
   ]
  },
  {
   "cell_type": "code",
   "execution_count": null,
   "metadata": {},
   "outputs": [],
   "source": [
    "#print the unique values in the columns\n",
    "print(titanic[\"sex\"].unique())\n",
    "print(titanic[\"embarked\"].unique())"
   ]
  },
  {
   "cell_type": "code",
   "execution_count": 42,
   "metadata": {},
   "outputs": [
    {
     "data": {
      "text/plain": [
       "survived          int64\n",
       "pclass            int64\n",
       "sex              object\n",
       "age             float64\n",
       "sibsp             int64\n",
       "parch             int64\n",
       "fare            float64\n",
       "embarked         object\n",
       "class          category\n",
       "who              object\n",
       "adult_male         bool\n",
       "deck           category\n",
       "embark_town      object\n",
       "alive            object\n",
       "alone              bool\n",
       "dtype: object"
      ]
     },
     "execution_count": 42,
     "metadata": {},
     "output_type": "execute_result"
    }
   ],
   "source": [
    "titanic.dtypes"
   ]
  },
  {
   "cell_type": "code",
   "execution_count": null,
   "metadata": {},
   "outputs": [],
   "source": [
    "#split data into independent 'X' and dependent 'Y' variables\n",
    "X=titanic.iloc[:,1:8].values \n",
    "Y=titanic.iloc[:,0].values"
   ]
  },
  {
   "cell_type": "code",
   "execution_count": null,
   "metadata": {},
   "outputs": [],
   "source": [
    "#split the dataset into 80% training and 20% testing\n",
    "from sklearn.model_selection import train_test_split\n",
    "X_train,X_test,Y_train,Y_test=train_test_split(X,Y,test_size=0.2,random_state=0)"
   ]
  },
  {
   "cell_type": "code",
   "execution_count": 43,
   "metadata": {},
   "outputs": [],
   "source": [
    "#scale the data\n",
    "from sklearn.preprocessing import StandardScaler\n",
    "sc=StandardScaler()\n",
    "X_train=sc.fit_transform(X_train)\n",
    "X_test=sc.fit_transform(X_test)"
   ]
  },
  {
   "cell_type": "code",
   "execution_count": null,
   "metadata": {},
   "outputs": [],
   "source": [
    "#create a function with many ml models\n",
    "def models(X_train,Y_train):\n",
    "    #use logistic regression\n",
    "    from sklearn.linear_model import LogisticRegression\n",
    "    log=LogisticRegression(random_state=0)\n",
    "    log.fit(X_train,Y_train)\n",
    "    \n",
    "    #use KNeighbors\n",
    "    from sklearn.neighbors import KNeighborsClassifier\n",
    "    knn=KNeighborsClassifier(n_neighbors=5,metric=\"minkowski\",p=2)\n",
    "    knn.fit(X_train,Y_train)\n",
    "    \n",
    "    #use SVC (linear kernel)\n",
    "    from sklearn.svm import SVC\n",
    "    svc_lin=SVC(kernel=\"linear\",random_state=0)\n",
    "    svc_lin.fit(X_train,Y_train)\n",
    "    \n",
    "    #use SVC (RBF kernel)\n",
    "    svc_rbf=SVC(kernel=\"rbf\",random_state=0)\n",
    "    svc_rbf.fit(X_train,Y_train)\n",
    "    \n",
    "    #use GaussianNB\n",
    "    from sklearn.naive_bayes import GaussianNB\n",
    "    gauss=GaussianNB()\n",
    "    gauss.fit(X_train,Y_train)\n",
    "    \n",
    "    #use Decision Tree\n",
    "    from sklearn.tree import DecisionTreeClassifier\n",
    "    tree=DecisionTreeClassifier(criterion=\"entropy\",random_state=0)\n",
    "    tree.fit(X_train,Y_train)\n",
    "    \n",
    "    #use Random Forest Classifier\n",
    "    from sklearn.ensemble import RandomForestClassifier\n",
    "    forest=RandomForestClassifier(n_estimators=10,criterion=\"entropy\",random_state=0)\n",
    "    forest.fit(X_train,Y_train)\n",
    "    \n",
    "    #print the training accuracy for each model\n",
    "    print('[0]Logistic Regression Training Accuracy:',log.score(X_train,Y_train))\n",
    "    print('\\n[1]K Neighbors Training Accuracy:',knn.score(X_train,Y_train))\n",
    "    print('\\n[2]SVC Linear Training Accuracy:',svc_lin.score(X_train,Y_train))\n",
    "    print('\\n[3]SVC RBF Training Accuracy:',svc_rbf.score(X_train,Y_train))\n",
    "    print('\\n[4]Gaussian Training Accuracy:',gauss.score(X_train,Y_train))\n",
    "    print('\\n[5]Decision Tree Training Accuracy:',tree.score(X_train,Y_train))\n",
    "    print('\\n[6]Random Forest Training Accuracy:',forest.score(X_train,Y_train))\n",
    "    \n",
    "    return log,knn,svc_lin,svc_rbf,gauss,tree,forest"
   ]
  },
  {
   "cell_type": "code",
   "execution_count": null,
   "metadata": {},
   "outputs": [],
   "source": [
    "#get and train all of the models\n",
    "model=models(X_train,Y_train)"
   ]
  },
  {
   "cell_type": "code",
   "execution_count": null,
   "metadata": {},
   "outputs": [],
   "source": [
    "#show the confusion matrix and accuracy for all of the models on the test data\n",
    "from sklearn.metrics import confusion_matrix\n",
    "for i in range(len(model)):\n",
    "    cm=confusion_matrix(Y_test,model[i].predict(X_test))\n",
    "    \n",
    "    #Extract TN, FP, FN, TP\n",
    "    TN, FP, FN, TP=confusion_matrix(Y_test,model[i].predict(X_test)).ravel()\n",
    "    \n",
    "    test_score=(TP+TN)/(TP+TN+FN+FP)\n",
    "    \n",
    "    print(cm)\n",
    "    print(\"Model[{0}] Testing Accuracy='{1}'\".format(i,test_score))\n",
    "    print()"
   ]
  },
  {
   "cell_type": "code",
   "execution_count": null,
   "metadata": {},
   "outputs": [],
   "source": []
  },
  {
   "cell_type": "code",
   "execution_count": null,
   "metadata": {},
   "outputs": [],
   "source": [
    "#get feature importance \n",
    "forest=model[6]\n",
    "importances=pd.DataFrame({\"feature\":titanic.iloc[:,1:8].columns,\"importance\":np.round(forest.feature_importances_,3)})\n",
    "importances=importances.sort_values(\"importance\",ascending=False).set_index(\"feature\")\n",
    "importances"
   ]
  },
  {
   "cell_type": "code",
   "execution_count": null,
   "metadata": {},
   "outputs": [],
   "source": [
    "#Visualize the importance\n",
    "importances.plot(kind=\"bar\")"
   ]
  },
  {
   "cell_type": "code",
   "execution_count": null,
   "metadata": {},
   "outputs": [],
   "source": [
    "#print the prediction of the random forest classifier\n",
    "pred=model[6].predict(X_test)\n",
    "print(pred,\"\\n\")\n",
    "\n",
    "#print the actual values\n",
    "print(Y_test)"
   ]
  },
  {
   "cell_type": "code",
   "execution_count": 48,
   "metadata": {},
   "outputs": [
    {
     "name": "stdout",
     "output_type": "stream",
     "text": [
      "[0]\n",
      "You didn't make it\n"
     ]
    }
   ],
   "source": [
    "#based on my own data\n",
    "my_survival=[[3,1,22,0,0,0,1]]\n",
    "\n",
    "#scaling my survival\n",
    "sc=StandardScaler() # we imported before\n",
    "my_survival_scaled=sc.fit_transform(my_survival)\n",
    "\n",
    "#prediction of my survival using Random Forest Classifier\n",
    "pred=model[6].predict(my_survival_scaled)\n",
    "print(pred)\n",
    "\n",
    "if pred==0:\n",
    "    print(\"You didn't make it\")\n",
    "else:\n",
    "    print(\"Nice!! You survived!\")"
   ]
  },
  {
   "cell_type": "code",
   "execution_count": null,
   "metadata": {},
   "outputs": [],
   "source": []
  }
 ],
 "metadata": {
  "kernelspec": {
   "display_name": "Python 3",
   "language": "python",
   "name": "python3"
  },
  "language_info": {
   "codemirror_mode": {
    "name": "ipython",
    "version": 3
   },
   "file_extension": ".py",
   "mimetype": "text/x-python",
   "name": "python",
   "nbconvert_exporter": "python",
   "pygments_lexer": "ipython3",
   "version": "3.6.4"
  }
 },
 "nbformat": 4,
 "nbformat_minor": 2
}
